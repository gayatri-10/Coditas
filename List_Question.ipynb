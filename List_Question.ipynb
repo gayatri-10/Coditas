{
 "cells": [
  {
   "cell_type": "code",
   "execution_count": 2,
   "id": "d27b2e57-ef1b-431b-b9e0-d6f6127ac7a2",
   "metadata": {},
   "outputs": [
    {
     "name": "stdout",
     "output_type": "stream",
     "text": [
      "1\n"
     ]
    }
   ],
   "source": [
    "# From given list find the duplicate item, expected output: 1\n",
    "\n",
    "l = [1, 2, 3, 4, 1]\n",
    "\n",
    "l1 = []\n",
    "for i in set(l):            # set() is used here to create a set of unique items from the list, so that we don't have to check the same item multiple times\n",
    "    if l.count(i) > 1:      # count() is used here to count the how many times the item has appeared in the list \n",
    "        print(i)"
   ]
  }
 ],
 "metadata": {
  "kernelspec": {
   "display_name": "Python 3 (ipykernel)",
   "language": "python",
   "name": "python3"
  },
  "language_info": {
   "codemirror_mode": {
    "name": "ipython",
    "version": 3
   },
   "file_extension": ".py",
   "mimetype": "text/x-python",
   "name": "python",
   "nbconvert_exporter": "python",
   "pygments_lexer": "ipython3",
   "version": "3.11.7"
  }
 },
 "nbformat": 4,
 "nbformat_minor": 5
}
